{
 "cells": [
  {
   "cell_type": "code",
   "execution_count": 40,
   "metadata": {},
   "outputs": [],
   "source": [
    "import pandas as pd\n",
    "import numpy as np\n",
    "import collections"
   ]
  },
  {
   "cell_type": "code",
   "execution_count": 41,
   "metadata": {},
   "outputs": [],
   "source": [
    "df = pd.read_excel(r\"C:\\Users\\User\\Desktop\\python files\\poker_hands.xlsx\")"
   ]
  },
  {
   "cell_type": "code",
   "execution_count": 62,
   "metadata": {},
   "outputs": [],
   "source": [
    "def check_hand(num_list, suit_list):\n",
    "    occurence = [num_list.count(i) for i in set(num_list)]\n",
    "    if 4 in occurence:\n",
    "        return 'four of a kind'\n",
    "    elif (3 in occurence) & (2 in occurence):\n",
    "        return 'full house'\n",
    "    elif (3 in occurence) & (occurence.count(1) == 2):\n",
    "        return 'three of a kind'\n",
    "    elif (1 in occurence) & (occurence.count(2) == 2):\n",
    "        return 'two pairs'\n",
    "    elif (2 in occurence) & (occurence.count(1) == 3):\n",
    "        return 'one pair'\n",
    "    elif (len(set(suit_list)) == 1) & (((num_list[0] + num_list[4]) == (num_list[1] + num_list[3]) == (num_list[2] * 2)) & (num_list[4] - num_list[0] == 4)):\n",
    "        return 'straight flush'\n",
    "    elif (len(set(suit_list)) == 1) & (num_list == [2,3,4,5,14]):\n",
    "        return 'royal flush'\n",
    "    elif len(set(suit_list)) == 1:\n",
    "        return 'flush'\n",
    "    elif (((num_list[0] + num_list[4]) == (num_list[1] + num_list[3]) == (num_list[2] * 2)) & (num_list[4] - num_list[0] == 4)) | (num_list == [2,3,4,5,14]):\n",
    "        return 'straight'\n",
    "    else:\n",
    "        return 'high card'"
   ]
  },
  {
   "cell_type": "code",
   "execution_count": 63,
   "metadata": {},
   "outputs": [],
   "source": [
    "def compare_hand_size(num_list_1, num_list_2):\n",
    "    num_list_1 = num_list_1[::-1]\n",
    "    num_list_2 = num_list_2[::-1]\n",
    "\n",
    "    counts = collections.Counter(num_list_1)\n",
    "    num_list_1 = sorted(num_list_1, key=lambda x: -counts[x])\n",
    "    counts = collections.Counter(num_list_2)\n",
    "    num_list_2 = sorted(num_list_2, key=lambda x: -counts[x])\n",
    "    \n",
    "    for num1, num2 in zip(num_list_1, num_list_2):\n",
    "        if num1 > num2:\n",
    "            return 'p1'\n",
    "        if num2 > num1:\n",
    "            return 'p2'\n",
    "    return 'draw'"
   ]
  },
  {
   "cell_type": "code",
   "execution_count": 67,
   "metadata": {},
   "outputs": [],
   "source": [
    "def identify_winner(row):\n",
    "    \n",
    "    # Breakdown hands\n",
    "\n",
    "    p1 = row[:5]\n",
    "    p2 = row[5:10]\n",
    "    \n",
    "    num_mapping_dict = {\n",
    "        '2':2,\n",
    "        '3':3,\n",
    "        '4':4,\n",
    "        '5':5,\n",
    "        '6':6,\n",
    "        '7':7,\n",
    "        '8':8,\n",
    "        '9':9,\n",
    "        'T':10,\n",
    "        'J':11,\n",
    "        'Q':12,\n",
    "        'K':13,\n",
    "        'A':14\n",
    "    }\n",
    "\n",
    "    combo_mapping_dict = {\n",
    "        'high card': 0,\n",
    "        'one pair': 1,\n",
    "        'two pairs': 2,\n",
    "        'three of a kind': 3,\n",
    "        'straight': 4,\n",
    "        'flush': 5,\n",
    "        'full house': 6,\n",
    "        'four of a kind': 7,\n",
    "        'straight flush': 8,\n",
    "        'royal flush': 9\n",
    "    }\n",
    "\n",
    "    p1_num_list = [num_mapping_dict[i[0]] for i in p1]\n",
    "    p1_suit_list = [i[1] for i in p1]\n",
    "\n",
    "    p2_num_list = [num_mapping_dict[i[0]] for i in p2]\n",
    "    p2_suit_list = [i[1] for i in p2]\n",
    "\n",
    "    p1_num_list.sort()\n",
    "    p2_num_list.sort()\n",
    "\n",
    "    p1 = combo_mapping_dict[check_hand(p1_num_list, p1_suit_list)]\n",
    "    p2 = combo_mapping_dict[check_hand(p2_num_list, p2_suit_list)]\n",
    "    if p1 > p2:\n",
    "        return 'p1'\n",
    "    elif p2 > p1:\n",
    "        return 'p2'\n",
    "    else:\n",
    "        return compare_hand_size(p1_num_list, p2_num_list)"
   ]
  },
  {
   "cell_type": "code",
   "execution_count": 68,
   "metadata": {},
   "outputs": [
    {
     "data": {
      "text/plain": [
       "'p2'"
      ]
     },
     "execution_count": 68,
     "metadata": {},
     "output_type": "execute_result"
    }
   ],
   "source": [
    "identify_winner(['TD','AD','6S','7H','KD','KH','9H','5S','KC','JC'])"
   ]
  },
  {
   "cell_type": "code",
   "execution_count": 69,
   "metadata": {},
   "outputs": [
    {
     "data": {
      "text/plain": [
       "0.376"
      ]
     },
     "execution_count": 69,
     "metadata": {},
     "output_type": "execute_result"
    }
   ],
   "source": [
    "df['Winner'] = df.apply(identify_winner, axis=1)\n",
    "len(df[df['Winner']=='p1']) / len(df)"
   ]
  },
  {
   "cell_type": "code",
   "execution_count": 47,
   "metadata": {},
   "outputs": [],
   "source": [
    "df.to_excel(r\"C:\\Users\\User\\Desktop\\python files\\poker_hands_result.xlsx\")"
   ]
  }
 ],
 "metadata": {
  "kernelspec": {
   "display_name": "venv",
   "language": "python",
   "name": "python3"
  },
  "language_info": {
   "codemirror_mode": {
    "name": "ipython",
    "version": 3
   },
   "file_extension": ".py",
   "mimetype": "text/x-python",
   "name": "python",
   "nbconvert_exporter": "python",
   "pygments_lexer": "ipython3",
   "version": "3.9.6"
  },
  "orig_nbformat": 4,
  "vscode": {
   "interpreter": {
    "hash": "3387f2516f66e85e85136cc0af7ef20c564fe31b8fd20a814da906abec761da1"
   }
  }
 },
 "nbformat": 4,
 "nbformat_minor": 2
}
