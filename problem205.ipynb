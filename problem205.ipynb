{
 "cells": [
  {
   "cell_type": "code",
   "execution_count": 2,
   "metadata": {},
   "outputs": [],
   "source": [
    "import numpy as np\n",
    "import random"
   ]
  },
  {
   "cell_type": "code",
   "execution_count": 33,
   "metadata": {},
   "outputs": [
    {
     "name": "stdout",
     "output_type": "stream",
     "text": [
      "0.572331 0.356849 0.07082\n"
     ]
    }
   ],
   "source": [
    "# simulation\n",
    "\n",
    "trials = 1000000\n",
    "peter_win = 0\n",
    "colin_win = 0\n",
    "draw = 0\n",
    "\n",
    "for i in range(trials):\n",
    "    peter_dice_list = [random.choice([1,2,3,4]) for i in range(9)]\n",
    "    colin_dice_list = [random.choice([1,2,3,4,5,6]) for i in range(6)]\n",
    "    if sum(peter_dice_list) > sum(colin_dice_list):\n",
    "        peter_win += 1\n",
    "    elif sum(peter_dice_list) < sum(colin_dice_list):\n",
    "        colin_win += 1\n",
    "    else:\n",
    "        draw += 1\n",
    "\n",
    "print(peter_win/trials, colin_win/trials, draw/trials)"
   ]
  },
  {
   "cell_type": "code",
   "execution_count": 82,
   "metadata": {},
   "outputs": [],
   "source": [
    "def add_dimension(n_x, possible=[1,2,3,4,5,6]):\n",
    "    n_x1 = []\n",
    "    for i in n_x:\n",
    "        for j in possible:\n",
    "            n_x1.append(j + i)\n",
    "    try:\n",
    "        n_x1_ans = np.concatenate(n_x1)\n",
    "    except:\n",
    "        n_x1_ans = n_x1\n",
    "    unique, counts = np.unique(n_x1_ans, return_counts=True)\n",
    "    result = (np.asarray((unique, counts/len(n_x1_ans))).T)\n",
    "    return n_x1_ans, result"
   ]
  },
  {
   "cell_type": "code",
   "execution_count": 89,
   "metadata": {},
   "outputs": [],
   "source": [
    "y = np.array([1,2,3,4,5,6])\n",
    "n_ans = y\n",
    "\n",
    "for i in range(6-1):\n",
    "    n_ans, result = add_dimension(n_ans, possible=y)\n",
    "\n",
    "colin_probs = result"
   ]
  },
  {
   "cell_type": "code",
   "execution_count": 93,
   "metadata": {},
   "outputs": [],
   "source": [
    "z = np.array([1,2,3,4])\n",
    "n_ans = z\n",
    "\n",
    "for i in range(9-1):\n",
    "    n_ans, result = add_dimension(n_ans, possible=z)\n",
    "\n",
    "peter_probs = result"
   ]
  },
  {
   "cell_type": "code",
   "execution_count": 105,
   "metadata": {},
   "outputs": [
    {
     "data": {
      "text/plain": [
       "[[9.0, 2.2893416374635633e-09],\n",
       " [10.0, 6.18122242115162e-08],\n",
       " [11.0, 7.726528026439526e-07],\n",
       " [12.0, 6.23273260799455e-06],\n",
       " [13.0, 3.647804260253906e-05],\n",
       " [14.0, 0.00016506512959798178],\n",
       " [15.0, 0.0006022055943806967],\n",
       " [16.0, 0.0018216577577002254],\n",
       " [17.0, 0.004662681508947303],\n",
       " [18.0, 0.01024822181471418],\n",
       " [19.0, 0.019557950673279943],\n",
       " [20.0, 0.032698845421826404],\n",
       " [21.0, 0.04823249652061934],\n",
       " [22.0, 0.06310867380212855],\n",
       " [23.0, 0.07355747399506746],\n",
       " [24.0, 0.0766290882487356],\n",
       " [25.0, 0.07151629895339777],\n",
       " [26.0, 0.059878687799712754],\n",
       " [27.0, 0.044982693731703056],\n",
       " [28.0, 0.03027909994125366],\n",
       " [29.0, 0.01820524533589681],\n",
       " [30.0, 0.009715583589341905],\n",
       " [31.0, 0.004554969293099863],\n",
       " [32.0, 0.001845598220825195],\n",
       " [33.0, 0.0006282918247175805],\n",
       " [34.0, 0.00017155835657943914],\n",
       " [35.0, 3.43271243719407e-05],\n",
       " [36.0, 3.8146155034236616e-06]]"
      ]
     },
     "execution_count": 105,
     "metadata": {},
     "output_type": "execute_result"
    }
   ],
   "source": [
    "# Comparing probability distribution:\n",
    "winning_prob_for_each_sum = []\n",
    "\n",
    "for total_sum_p, prob_p in peter_probs:     # For every possible sum of Peter\n",
    "    winning_prob = 0\n",
    "    for total_sum_c, prob_c in colin_probs: # For every possible sum of Colin\n",
    "        if total_sum_p > total_sum_c:       # If sum of Peter > sum of Colin\n",
    "            winning_prob += prob_c          # add possibility of Colin hitting that sum\n",
    "\n",
    "    winning_prob = winning_prob * prob_p    # multiply possibility of sum of Peter happening\n",
    "    winning_prob_for_each_sum.append([total_sum_p, winning_prob])\n",
    "\n",
    "winning_prob_for_each_sum"
   ]
  },
  {
   "cell_type": "code",
   "execution_count": 107,
   "metadata": {},
   "outputs": [
    {
     "data": {
      "text/plain": [
       "0.5731441"
      ]
     },
     "execution_count": 107,
     "metadata": {},
     "output_type": "execute_result"
    }
   ],
   "source": [
    "win_prob = 0\n",
    "for i, j in winning_prob_for_each_sum:\n",
    "    win_prob += j\n",
    "round(win_prob,7)"
   ]
  }
 ],
 "metadata": {
  "kernelspec": {
   "display_name": "venv_3_9_12",
   "language": "python",
   "name": "python3"
  },
  "language_info": {
   "codemirror_mode": {
    "name": "ipython",
    "version": 3
   },
   "file_extension": ".py",
   "mimetype": "text/x-python",
   "name": "python",
   "nbconvert_exporter": "python",
   "pygments_lexer": "ipython3",
   "version": "3.9.12"
  },
  "orig_nbformat": 4,
  "vscode": {
   "interpreter": {
    "hash": "a179cc4b26c00abb7c5040b3828f6ed57a65a27e563716d42ff9b5286259ed60"
   }
  }
 },
 "nbformat": 4,
 "nbformat_minor": 2
}
